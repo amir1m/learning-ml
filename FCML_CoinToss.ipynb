{
  "nbformat": 4,
  "nbformat_minor": 0,
  "metadata": {
    "colab": {
      "name": "FCML CoinToss.ipynb",
      "provenance": [],
      "collapsed_sections": [],
      "authorship_tag": "ABX9TyPh/KDaN/Ad/qt8xTdDPcwX",
      "include_colab_link": true
    },
    "kernelspec": {
      "name": "python3",
      "display_name": "Python 3"
    }
  },
  "cells": [
    {
      "cell_type": "markdown",
      "metadata": {
        "id": "view-in-github",
        "colab_type": "text"
      },
      "source": [
        "<a href=\"https://colab.research.google.com/github/amir1m/learning-ml/blob/master/FCML_CoinToss.ipynb\" target=\"_parent\"><img src=\"https://colab.research.google.com/assets/colab-badge.svg\" alt=\"Open In Colab\"/></a>"
      ]
    },
    {
      "cell_type": "code",
      "metadata": {
        "id": "53uulA_a2uXp",
        "colab_type": "code",
        "colab": {}
      },
      "source": [
        "from scipy.special import comb\n",
        "import matplotlib.pyplot as plt\n"
      ],
      "execution_count": 0,
      "outputs": []
    },
    {
      "cell_type": "code",
      "metadata": {
        "id": "8juOZxyR2_dN",
        "colab_type": "code",
        "colab": {}
      },
      "source": [
        ""
      ],
      "execution_count": 0,
      "outputs": []
    },
    {
      "cell_type": "code",
      "metadata": {
        "id": "b628buD56URf",
        "colab_type": "code",
        "colab": {}
      },
      "source": [
        "def get_binomial_proba_dist(N,y,r):\n",
        "  return(comb(10, y) * (r ** y) * (1 - r) ** (N - y) )\n"
      ],
      "execution_count": 0,
      "outputs": []
    },
    {
      "cell_type": "code",
      "metadata": {
        "id": "8ISNgSS-1QxF",
        "colab_type": "code",
        "colab": {
          "base_uri": "https://localhost:8080/",
          "height": 204
        },
        "outputId": "9f02fe07-dbbc-44ff-af82-fd93257b4f0b"
      },
      "source": [
        "prob_y = []\n",
        "N = 10\n",
        "r = 0.5\n",
        "\n",
        "for y in range(0,11,1):\n",
        "  prob_y.append(get_binomial_proba_dist(N, y, r))\n",
        "  print(\"{} : {}\".format(y, prob_y[y]))"
      ],
      "execution_count": 42,
      "outputs": [
        {
          "output_type": "stream",
          "text": [
            "0 : 0.0009765625\n",
            "1 : 0.009765625\n",
            "2 : 0.0439453125\n",
            "3 : 0.1171875\n",
            "4 : 0.205078125\n",
            "5 : 0.24609375\n",
            "6 : 0.205078125\n",
            "7 : 0.1171875\n",
            "8 : 0.0439453125\n",
            "9 : 0.009765625\n",
            "10 : 0.0009765625\n"
          ],
          "name": "stdout"
        }
      ]
    },
    {
      "cell_type": "code",
      "metadata": {
        "id": "8WE7CGAX7NeN",
        "colab_type": "code",
        "colab": {
          "base_uri": "https://localhost:8080/",
          "height": 34
        },
        "outputId": "f9081caa-eb31-46fe-ee0d-38d61f818732"
      },
      "source": [
        "sum(prob_y)"
      ],
      "execution_count": 44,
      "outputs": [
        {
          "output_type": "execute_result",
          "data": {
            "text/plain": [
              "1.0"
            ]
          },
          "metadata": {
            "tags": []
          },
          "execution_count": 44
        }
      ]
    },
    {
      "cell_type": "code",
      "metadata": {
        "id": "cyx4tvth4e7s",
        "colab_type": "code",
        "colab": {
          "base_uri": "https://localhost:8080/",
          "height": 296
        },
        "outputId": "3765c285-7b72-4282-93c0-cb1b91815abb"
      },
      "source": [
        "plt.bar(range(0,11), prob_y)\n",
        "plt.xticks(ticks=range(0,11))\n",
        "plt.xlabel(\"y\")\n",
        "plt.ylabel(\"P(y)\")\n",
        "plt.plot(range(0,11), prob_y)\n"
      ],
      "execution_count": 43,
      "outputs": [
        {
          "output_type": "execute_result",
          "data": {
            "text/plain": [
              "[<matplotlib.lines.Line2D at 0x7f984614b470>]"
            ]
          },
          "metadata": {
            "tags": []
          },
          "execution_count": 43
        },
        {
          "output_type": "display_data",
          "data": {
            "image/png": "[encoded data removed]",
            "text/plain": [
              "<Figure size 432x288 with 1 Axes>"
            ]
          },
          "metadata": {
            "tags": [],
            "needs_background": "light"
          }
        }
      ]
    }
  ]
}